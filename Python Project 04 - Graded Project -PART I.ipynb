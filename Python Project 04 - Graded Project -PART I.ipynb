{
 "cells": [
  {
   "cell_type": "markdown",
   "id": "7c66c407",
   "metadata": {},
   "source": [
    "## NAME :SHALINI PR\n",
    "### Week 04: Graded Project - PART I"
   ]
  },
  {
   "cell_type": "markdown",
   "id": "2e7d8620",
   "metadata": {},
   "source": [
    "### EDA & Data Preprocessing on Google App Store Rating Dataset."
   ]
  },
  {
   "cell_type": "markdown",
   "id": "8e70fa9f",
   "metadata": {},
   "source": [
    "### Objective:\n",
    "    1. The Goal is to explore the data and pre-process it for future use in any predictive analytics study."
   ]
  },
  {
   "cell_type": "markdown",
   "id": "ac102d47",
   "metadata": {},
   "source": [
    "### QUESTONS"
   ]
  },
  {
   "cell_type": "markdown",
   "id": "a5ca7639",
   "metadata": {},
   "source": [
    "### 1. Import required libraries and read the dataset."
   ]
  },
  {
   "cell_type": "code",
   "execution_count": 1,
   "id": "c6e2748c",
   "metadata": {},
   "outputs": [],
   "source": [
    "import pandas as pd\n",
    "import numpy as np\n",
    "import matplotlib.pyplot as plt\n",
    "import seaborn as sns\n",
    "from sklearn.model_selection import train_test_split\n",
    "from sklearn.preprocessing import StandardScaler, LabelEncoder\n",
    "from sklearn.preprocessing import FunctionTransformer\n",
    "from sklearn.preprocessing import MinMaxScaler\n",
    "\n",
    "import warnings\n",
    "warnings.filterwarnings('ignore')"
   ]
  },
  {
   "cell_type": "code",
   "execution_count": 2,
   "id": "8da46a51",
   "metadata": {},
   "outputs": [
    {
     "name": "stdout",
     "output_type": "stream",
     "text": [
      "                                                     App             Category  \\\n",
      "0         Photo Editor & Candy Camera & Grid & ScrapBook       ART_AND_DESIGN   \n",
      "1                                    Coloring book moana       ART_AND_DESIGN   \n",
      "2      U Launcher Lite – FREE Live Cool Themes, Hide ...       ART_AND_DESIGN   \n",
      "3                                  Sketch - Draw & Paint       ART_AND_DESIGN   \n",
      "4                  Pixel Draw - Number Art Coloring Book       ART_AND_DESIGN   \n",
      "...                                                  ...                  ...   \n",
      "10836                                   Sya9a Maroc - FR               FAMILY   \n",
      "10837                   Fr. Mike Schmitz Audio Teachings               FAMILY   \n",
      "10838                             Parkinson Exercices FR              MEDICAL   \n",
      "10839                      The SCP Foundation DB fr nn5n  BOOKS_AND_REFERENCE   \n",
      "10840      iHoroscope - 2018 Daily Horoscope & Astrology            LIFESTYLE   \n",
      "\n",
      "       Rating Reviews                Size     Installs  Type Price  \\\n",
      "0         4.1     159                 19M      10,000+  Free     0   \n",
      "1         3.9     967                 14M     500,000+  Free     0   \n",
      "2         4.7   87510                8.7M   5,000,000+  Free     0   \n",
      "3         4.5  215644                 25M  50,000,000+  Free     0   \n",
      "4         4.3     967                2.8M     100,000+  Free     0   \n",
      "...       ...     ...                 ...          ...   ...   ...   \n",
      "10836     4.5      38                 53M       5,000+  Free     0   \n",
      "10837     5.0       4                3.6M         100+  Free     0   \n",
      "10838     NaN       3                9.5M       1,000+  Free     0   \n",
      "10839     4.5     114  Varies with device       1,000+  Free     0   \n",
      "10840     4.5  398307                 19M  10,000,000+  Free     0   \n",
      "\n",
      "      Content Rating                     Genres      Last Updated  \\\n",
      "0           Everyone               Art & Design   January 7, 2018   \n",
      "1           Everyone  Art & Design;Pretend Play  January 15, 2018   \n",
      "2           Everyone               Art & Design    August 1, 2018   \n",
      "3               Teen               Art & Design      June 8, 2018   \n",
      "4           Everyone    Art & Design;Creativity     June 20, 2018   \n",
      "...              ...                        ...               ...   \n",
      "10836       Everyone                  Education     July 25, 2017   \n",
      "10837       Everyone                  Education      July 6, 2018   \n",
      "10838       Everyone                    Medical  January 20, 2017   \n",
      "10839     Mature 17+          Books & Reference  January 19, 2015   \n",
      "10840       Everyone                  Lifestyle     July 25, 2018   \n",
      "\n",
      "              Current Ver         Android Ver  \n",
      "0                   1.0.0        4.0.3 and up  \n",
      "1                   2.0.0        4.0.3 and up  \n",
      "2                   1.2.4        4.0.3 and up  \n",
      "3      Varies with device          4.2 and up  \n",
      "4                     1.1          4.4 and up  \n",
      "...                   ...                 ...  \n",
      "10836                1.48          4.1 and up  \n",
      "10837                 1.0          4.1 and up  \n",
      "10838                 1.0          2.2 and up  \n",
      "10839  Varies with device  Varies with device  \n",
      "10840  Varies with device  Varies with device  \n",
      "\n",
      "[10841 rows x 13 columns]\n"
     ]
    }
   ],
   "source": [
    "data = pd.read_csv('Google_playstore_appdata.csv')\n",
    "print(data)"
   ]
  },
  {
   "cell_type": "markdown",
   "id": "db0b174b",
   "metadata": {},
   "source": [
    "### 2. Check the first few samples, shape, info of the data and try to familiarize yourself with different features."
   ]
  },
  {
   "cell_type": "code",
   "execution_count": 3,
   "id": "cabd69d7",
   "metadata": {},
   "outputs": [
    {
     "data": {
      "text/html": [
       "<div>\n",
       "<style scoped>\n",
       "    .dataframe tbody tr th:only-of-type {\n",
       "        vertical-align: middle;\n",
       "    }\n",
       "\n",
       "    .dataframe tbody tr th {\n",
       "        vertical-align: top;\n",
       "    }\n",
       "\n",
       "    .dataframe thead th {\n",
       "        text-align: right;\n",
       "    }\n",
       "</style>\n",
       "<table border=\"1\" class=\"dataframe\">\n",
       "  <thead>\n",
       "    <tr style=\"text-align: right;\">\n",
       "      <th></th>\n",
       "      <th>App</th>\n",
       "      <th>Category</th>\n",
       "      <th>Rating</th>\n",
       "      <th>Reviews</th>\n",
       "      <th>Size</th>\n",
       "      <th>Installs</th>\n",
       "      <th>Type</th>\n",
       "      <th>Price</th>\n",
       "      <th>Content Rating</th>\n",
       "      <th>Genres</th>\n",
       "      <th>Last Updated</th>\n",
       "      <th>Current Ver</th>\n",
       "      <th>Android Ver</th>\n",
       "    </tr>\n",
       "  </thead>\n",
       "  <tbody>\n",
       "    <tr>\n",
       "      <th>6811</th>\n",
       "      <td>Bu the Baby Bunny - Cute pet care game</td>\n",
       "      <td>FAMILY</td>\n",
       "      <td>4.4</td>\n",
       "      <td>37122</td>\n",
       "      <td>89M</td>\n",
       "      <td>1,000,000+</td>\n",
       "      <td>Free</td>\n",
       "      <td>0</td>\n",
       "      <td>Everyone</td>\n",
       "      <td>Educational</td>\n",
       "      <td>June 14, 2018</td>\n",
       "      <td>1.03</td>\n",
       "      <td>4.1 and up</td>\n",
       "    </tr>\n",
       "    <tr>\n",
       "      <th>10378</th>\n",
       "      <td>BMX Boy</td>\n",
       "      <td>GAME</td>\n",
       "      <td>4.2</td>\n",
       "      <td>839206</td>\n",
       "      <td>12M</td>\n",
       "      <td>50,000,000+</td>\n",
       "      <td>Free</td>\n",
       "      <td>0</td>\n",
       "      <td>Everyone</td>\n",
       "      <td>Racing</td>\n",
       "      <td>September 20, 2017</td>\n",
       "      <td>1.16.33</td>\n",
       "      <td>4.1 and up</td>\n",
       "    </tr>\n",
       "    <tr>\n",
       "      <th>6799</th>\n",
       "      <td>BT Dating -Find your match, help cupid, be social</td>\n",
       "      <td>SOCIAL</td>\n",
       "      <td>4.1</td>\n",
       "      <td>158</td>\n",
       "      <td>26M</td>\n",
       "      <td>50,000+</td>\n",
       "      <td>Free</td>\n",
       "      <td>0</td>\n",
       "      <td>Mature 17+</td>\n",
       "      <td>Social</td>\n",
       "      <td>July 19, 2018</td>\n",
       "      <td>2.3</td>\n",
       "      <td>4.1 and up</td>\n",
       "    </tr>\n",
       "    <tr>\n",
       "      <th>4171</th>\n",
       "      <td>G-Homa</td>\n",
       "      <td>LIFESTYLE</td>\n",
       "      <td>3.1</td>\n",
       "      <td>777</td>\n",
       "      <td>14M</td>\n",
       "      <td>50,000+</td>\n",
       "      <td>Free</td>\n",
       "      <td>0</td>\n",
       "      <td>Everyone</td>\n",
       "      <td>Lifestyle</td>\n",
       "      <td>May 4, 2018</td>\n",
       "      <td>3.0.20</td>\n",
       "      <td>4.0 and up</td>\n",
       "    </tr>\n",
       "    <tr>\n",
       "      <th>6597</th>\n",
       "      <td>MedM Blood Pressure</td>\n",
       "      <td>MEDICAL</td>\n",
       "      <td>4.0</td>\n",
       "      <td>255</td>\n",
       "      <td>16M</td>\n",
       "      <td>10,000+</td>\n",
       "      <td>Free</td>\n",
       "      <td>0</td>\n",
       "      <td>Everyone</td>\n",
       "      <td>Medical</td>\n",
       "      <td>May 25, 2018</td>\n",
       "      <td>2.5.80</td>\n",
       "      <td>4.2 and up</td>\n",
       "    </tr>\n",
       "  </tbody>\n",
       "</table>\n",
       "</div>"
      ],
      "text/plain": [
       "                                                     App   Category  Rating  \\\n",
       "6811              Bu the Baby Bunny - Cute pet care game     FAMILY     4.4   \n",
       "10378                                            BMX Boy       GAME     4.2   \n",
       "6799   BT Dating -Find your match, help cupid, be social     SOCIAL     4.1   \n",
       "4171                                              G-Homa  LIFESTYLE     3.1   \n",
       "6597                                 MedM Blood Pressure    MEDICAL     4.0   \n",
       "\n",
       "      Reviews Size     Installs  Type Price Content Rating       Genres  \\\n",
       "6811    37122  89M   1,000,000+  Free     0       Everyone  Educational   \n",
       "10378  839206  12M  50,000,000+  Free     0       Everyone       Racing   \n",
       "6799      158  26M      50,000+  Free     0     Mature 17+       Social   \n",
       "4171      777  14M      50,000+  Free     0       Everyone    Lifestyle   \n",
       "6597      255  16M      10,000+  Free     0       Everyone      Medical   \n",
       "\n",
       "             Last Updated Current Ver Android Ver  \n",
       "6811        June 14, 2018        1.03  4.1 and up  \n",
       "10378  September 20, 2017     1.16.33  4.1 and up  \n",
       "6799        July 19, 2018         2.3  4.1 and up  \n",
       "4171          May 4, 2018      3.0.20  4.0 and up  \n",
       "6597         May 25, 2018      2.5.80  4.2 and up  "
      ]
     },
     "execution_count": 3,
     "metadata": {},
     "output_type": "execute_result"
    }
   ],
   "source": [
    "data.sample(5)"
   ]
  },
  {
   "cell_type": "code",
   "execution_count": 4,
   "id": "a9a2c0ea",
   "metadata": {},
   "outputs": [
    {
     "name": "stdout",
     "output_type": "stream",
     "text": [
      "                                                 App        Category  Rating  \\\n",
      "0     Photo Editor & Candy Camera & Grid & ScrapBook  ART_AND_DESIGN     4.1   \n",
      "1                                Coloring book moana  ART_AND_DESIGN     3.9   \n",
      "2  U Launcher Lite – FREE Live Cool Themes, Hide ...  ART_AND_DESIGN     4.7   \n",
      "3                              Sketch - Draw & Paint  ART_AND_DESIGN     4.5   \n",
      "4              Pixel Draw - Number Art Coloring Book  ART_AND_DESIGN     4.3   \n",
      "\n",
      "  Reviews  Size     Installs  Type Price Content Rating  \\\n",
      "0     159   19M      10,000+  Free     0       Everyone   \n",
      "1     967   14M     500,000+  Free     0       Everyone   \n",
      "2   87510  8.7M   5,000,000+  Free     0       Everyone   \n",
      "3  215644   25M  50,000,000+  Free     0           Teen   \n",
      "4     967  2.8M     100,000+  Free     0       Everyone   \n",
      "\n",
      "                      Genres      Last Updated         Current Ver  \\\n",
      "0               Art & Design   January 7, 2018               1.0.0   \n",
      "1  Art & Design;Pretend Play  January 15, 2018               2.0.0   \n",
      "2               Art & Design    August 1, 2018               1.2.4   \n",
      "3               Art & Design      June 8, 2018  Varies with device   \n",
      "4    Art & Design;Creativity     June 20, 2018                 1.1   \n",
      "\n",
      "    Android Ver  \n",
      "0  4.0.3 and up  \n",
      "1  4.0.3 and up  \n",
      "2  4.0.3 and up  \n",
      "3    4.2 and up  \n",
      "4    4.4 and up  \n"
     ]
    }
   ],
   "source": [
    "print(data.head())"
   ]
  },
  {
   "cell_type": "code",
   "execution_count": 5,
   "id": "d529d752",
   "metadata": {},
   "outputs": [
    {
     "name": "stdout",
     "output_type": "stream",
     "text": [
      "(10841, 13)\n"
     ]
    }
   ],
   "source": [
    "print(data.shape)"
   ]
  },
  {
   "cell_type": "code",
   "execution_count": 6,
   "id": "be103990",
   "metadata": {},
   "outputs": [
    {
     "name": "stdout",
     "output_type": "stream",
     "text": [
      "<class 'pandas.core.frame.DataFrame'>\n",
      "RangeIndex: 10841 entries, 0 to 10840\n",
      "Data columns (total 13 columns):\n",
      " #   Column          Non-Null Count  Dtype  \n",
      "---  ------          --------------  -----  \n",
      " 0   App             10841 non-null  object \n",
      " 1   Category        10841 non-null  object \n",
      " 2   Rating          9367 non-null   float64\n",
      " 3   Reviews         10841 non-null  object \n",
      " 4   Size            10841 non-null  object \n",
      " 5   Installs        10841 non-null  object \n",
      " 6   Type            10840 non-null  object \n",
      " 7   Price           10841 non-null  object \n",
      " 8   Content Rating  10840 non-null  object \n",
      " 9   Genres          10841 non-null  object \n",
      " 10  Last Updated    10841 non-null  object \n",
      " 11  Current Ver     10833 non-null  object \n",
      " 12  Android Ver     10838 non-null  object \n",
      "dtypes: float64(1), object(12)\n",
      "memory usage: 1.1+ MB\n",
      "None\n"
     ]
    }
   ],
   "source": [
    "print(data.info())"
   ]
  },
  {
   "cell_type": "markdown",
   "id": "6da8ee24",
   "metadata": {},
   "source": [
    "### INFERNECE\n",
    "    1.The data consists of 10841 rows and 13 columns.\n",
    "    2.Considering the columns only 'Rating' is in float64 datatype rest all of them are in object(str) datatypes."
   ]
  },
  {
   "cell_type": "markdown",
   "id": "06d3ee38",
   "metadata": {},
   "source": [
    "### 3. Check summary statistics of the dataset. List out the columns that need to be worked upon for model building."
   ]
  },
  {
   "cell_type": "code",
   "execution_count": 7,
   "id": "57f91b5e",
   "metadata": {},
   "outputs": [
    {
     "name": "stdout",
     "output_type": "stream",
     "text": [
      "            Rating\n",
      "count  9367.000000\n",
      "mean      4.193338\n",
      "std       0.537431\n",
      "min       1.000000\n",
      "25%       4.000000\n",
      "50%       4.300000\n",
      "75%       4.500000\n",
      "max      19.000000\n"
     ]
    }
   ],
   "source": [
    "print(data.describe())"
   ]
  },
  {
   "cell_type": "markdown",
   "id": "db547be7",
   "metadata": {},
   "source": [
    "#### 1. The Rating column only is float data type, rest all are object data type.\n",
    "#### 2. We use \" include='object' \" to get the summary statistics of those data."
   ]
  },
  {
   "cell_type": "code",
   "execution_count": 8,
   "id": "cc14cac4",
   "metadata": {},
   "outputs": [
    {
     "name": "stdout",
     "output_type": "stream",
     "text": [
      "           App Category Reviews                Size    Installs   Type  Price  \\\n",
      "count    10841    10841   10841               10841       10841  10840  10841   \n",
      "unique    9660       34    6002                 462          22      3     93   \n",
      "top     ROBLOX   FAMILY       0  Varies with device  1,000,000+   Free      0   \n",
      "freq         9     1972     596                1695        1579  10039  10040   \n",
      "\n",
      "       Content Rating Genres    Last Updated         Current Ver Android Ver  \n",
      "count           10840  10841           10841               10833       10838  \n",
      "unique              6    120            1378                2832          33  \n",
      "top          Everyone  Tools  August 3, 2018  Varies with device  4.1 and up  \n",
      "freq             8714    842             326                1459        2451  \n"
     ]
    }
   ],
   "source": [
    "print(data.describe(include=\"object\"))"
   ]
  },
  {
   "cell_type": "markdown",
   "id": "1297e62d",
   "metadata": {},
   "source": [
    "####  The summary statistics of complete data at once we use \" include='all' "
   ]
  },
  {
   "cell_type": "code",
   "execution_count": 9,
   "id": "49a3864f",
   "metadata": {
    "scrolled": true
   },
   "outputs": [
    {
     "name": "stdout",
     "output_type": "stream",
     "text": [
      "           App Category       Rating Reviews                Size    Installs  \\\n",
      "count    10841    10841  9367.000000   10841               10841       10841   \n",
      "unique    9660       34          NaN    6002                 462          22   \n",
      "top     ROBLOX   FAMILY          NaN       0  Varies with device  1,000,000+   \n",
      "freq         9     1972          NaN     596                1695        1579   \n",
      "mean       NaN      NaN     4.193338     NaN                 NaN         NaN   \n",
      "std        NaN      NaN     0.537431     NaN                 NaN         NaN   \n",
      "min        NaN      NaN     1.000000     NaN                 NaN         NaN   \n",
      "25%        NaN      NaN     4.000000     NaN                 NaN         NaN   \n",
      "50%        NaN      NaN     4.300000     NaN                 NaN         NaN   \n",
      "75%        NaN      NaN     4.500000     NaN                 NaN         NaN   \n",
      "max        NaN      NaN    19.000000     NaN                 NaN         NaN   \n",
      "\n",
      "         Type  Price Content Rating Genres    Last Updated  \\\n",
      "count   10840  10841          10840  10841           10841   \n",
      "unique      3     93              6    120            1378   \n",
      "top      Free      0       Everyone  Tools  August 3, 2018   \n",
      "freq    10039  10040           8714    842             326   \n",
      "mean      NaN    NaN            NaN    NaN             NaN   \n",
      "std       NaN    NaN            NaN    NaN             NaN   \n",
      "min       NaN    NaN            NaN    NaN             NaN   \n",
      "25%       NaN    NaN            NaN    NaN             NaN   \n",
      "50%       NaN    NaN            NaN    NaN             NaN   \n",
      "75%       NaN    NaN            NaN    NaN             NaN   \n",
      "max       NaN    NaN            NaN    NaN             NaN   \n",
      "\n",
      "               Current Ver Android Ver  \n",
      "count                10833       10838  \n",
      "unique                2832          33  \n",
      "top     Varies with device  4.1 and up  \n",
      "freq                  1459        2451  \n",
      "mean                   NaN         NaN  \n",
      "std                    NaN         NaN  \n",
      "min                    NaN         NaN  \n",
      "25%                    NaN         NaN  \n",
      "50%                    NaN         NaN  \n",
      "75%                    NaN         NaN  \n",
      "max                    NaN         NaN  \n"
     ]
    }
   ],
   "source": [
    "print(data.describe(include=\"all\"))"
   ]
  },
  {
   "cell_type": "markdown",
   "id": "71da3761",
   "metadata": {},
   "source": [
    "### INFERNCE\n",
    "    Columns that need to be worked upon for model building:\n",
    "    1. The columns 'App' can be drop after doing basic analysis\n",
    "    2. 'Rating' requires enconding.\n",
    "    3. 'category' requires enconding depends on task.\n",
    "    4. 'size','Reviews','Installs', 'Type', 'Price' and 'Content Rating' are relevant for our model building.\n",
    "    5. 'Genres',Last Updated', 'Current Ver','Android Ver' are not relevant for our observations."
   ]
  },
  {
   "cell_type": "markdown",
   "id": "ea9ebc48",
   "metadata": {},
   "source": [
    "### 4. Check if there are any duplicate records in the dataset? if any drop them."
   ]
  },
  {
   "cell_type": "code",
   "execution_count": 10,
   "id": "d1acd59a",
   "metadata": {},
   "outputs": [
    {
     "name": "stdout",
     "output_type": "stream",
     "text": [
      "\n"
     ]
    },
    {
     "data": {
      "text/plain": [
       "483"
      ]
     },
     "execution_count": 10,
     "metadata": {},
     "output_type": "execute_result"
    }
   ],
   "source": [
    "print()\n",
    "data.duplicated().sum()"
   ]
  },
  {
   "cell_type": "markdown",
   "id": "f9df3163",
   "metadata": {},
   "source": [
    "### There are 483 duplicate vales and we are dropping using drop_duplicates"
   ]
  },
  {
   "cell_type": "code",
   "execution_count": 11,
   "id": "b99e8350",
   "metadata": {},
   "outputs": [],
   "source": [
    "data.drop_duplicates(inplace=True)"
   ]
  },
  {
   "cell_type": "markdown",
   "id": "2907a2d1",
   "metadata": {},
   "source": [
    "#### To check and verify whether all duplicates are removed."
   ]
  },
  {
   "cell_type": "code",
   "execution_count": 12,
   "id": "6b378a6c",
   "metadata": {},
   "outputs": [
    {
     "data": {
      "text/plain": [
       "0"
      ]
     },
     "execution_count": 12,
     "metadata": {},
     "output_type": "execute_result"
    }
   ],
   "source": [
    "data.duplicated().sum()"
   ]
  },
  {
   "cell_type": "markdown",
   "id": "d2117eb1",
   "metadata": {},
   "source": [
    "### 5. Check the unique categories of the column 'Category', Is there any invalid category? If yes, drop them"
   ]
  },
  {
   "cell_type": "code",
   "execution_count": 13,
   "id": "90bf0685",
   "metadata": {},
   "outputs": [
    {
     "name": "stdout",
     "output_type": "stream",
     "text": [
      "['ART_AND_DESIGN' 'AUTO_AND_VEHICLES' 'BEAUTY' 'BOOKS_AND_REFERENCE'\n",
      " 'BUSINESS' 'COMICS' 'COMMUNICATION' 'DATING' 'EDUCATION' 'ENTERTAINMENT'\n",
      " 'EVENTS' 'FINANCE' 'FOOD_AND_DRINK' 'HEALTH_AND_FITNESS' 'HOUSE_AND_HOME'\n",
      " 'LIBRARIES_AND_DEMO' 'LIFESTYLE' 'GAME' 'FAMILY' 'MEDICAL' 'SOCIAL'\n",
      " 'SHOPPING' 'PHOTOGRAPHY' 'SPORTS' 'TRAVEL_AND_LOCAL' 'TOOLS'\n",
      " 'PERSONALIZATION' 'PRODUCTIVITY' 'PARENTING' 'WEATHER' 'VIDEO_PLAYERS'\n",
      " 'NEWS_AND_MAGAZINES' 'MAPS_AND_NAVIGATION' '1.9']\n"
     ]
    }
   ],
   "source": [
    "print(data['Category'].unique())"
   ]
  },
  {
   "cell_type": "markdown",
   "id": "af4ffa6a",
   "metadata": {},
   "source": [
    "### There is a invalid category 1.9 which should be removed."
   ]
  },
  {
   "cell_type": "code",
   "execution_count": 14,
   "id": "1e946c5f",
   "metadata": {},
   "outputs": [
    {
     "data": {
      "text/plain": [
       "Int64Index([10472], dtype='int64')"
      ]
     },
     "execution_count": 14,
     "metadata": {},
     "output_type": "execute_result"
    }
   ],
   "source": [
    "data[data['Category']=='1.9'].index"
   ]
  },
  {
   "cell_type": "code",
   "execution_count": 15,
   "id": "bd11e9ed",
   "metadata": {},
   "outputs": [],
   "source": [
    "App_data_group = data.groupby(['Category'])\n",
    "Each_category=App_data_group['Category'].count().sort_values(ascending=False)"
   ]
  },
  {
   "cell_type": "code",
   "execution_count": 16,
   "id": "0d7bb7e5",
   "metadata": {},
   "outputs": [
    {
     "name": "stdout",
     "output_type": "stream",
     "text": [
      "Each_category:\n",
      "Category\n",
      "FAMILY                 1943\n",
      "GAME                   1121\n",
      "TOOLS                   843\n",
      "BUSINESS                427\n",
      "MEDICAL                 408\n",
      "PRODUCTIVITY            407\n",
      "PERSONALIZATION         388\n",
      "LIFESTYLE               373\n",
      "COMMUNICATION           366\n",
      "FINANCE                 360\n",
      "SPORTS                  351\n",
      "PHOTOGRAPHY             322\n",
      "HEALTH_AND_FITNESS      306\n",
      "SOCIAL                  280\n",
      "NEWS_AND_MAGAZINES      264\n",
      "TRAVEL_AND_LOCAL        237\n",
      "BOOKS_AND_REFERENCE     230\n",
      "SHOPPING                224\n",
      "DATING                  196\n",
      "VIDEO_PLAYERS           175\n",
      "MAPS_AND_NAVIGATION     137\n",
      "EDUCATION               130\n",
      "FOOD_AND_DRINK          124\n",
      "ENTERTAINMENT           111\n",
      "LIBRARIES_AND_DEMO       85\n",
      "AUTO_AND_VEHICLES        85\n",
      "WEATHER                  82\n",
      "HOUSE_AND_HOME           80\n",
      "ART_AND_DESIGN           65\n",
      "EVENTS                   64\n",
      "PARENTING                60\n",
      "COMICS                   60\n",
      "BEAUTY                   53\n",
      "1.9                       1\n",
      "Name: Category, dtype: int64\n"
     ]
    }
   ],
   "source": [
    "print('Each_category:')\n",
    "print(Each_category)"
   ]
  },
  {
   "cell_type": "markdown",
   "id": "49847149",
   "metadata": {},
   "source": [
    "#### The count of invalid category present is 1, which can be removed from the data"
   ]
  },
  {
   "cell_type": "code",
   "execution_count": 17,
   "id": "3eb96d97",
   "metadata": {},
   "outputs": [],
   "source": [
    "data=data.drop(index=10472, axis=0)"
   ]
  },
  {
   "cell_type": "code",
   "execution_count": 18,
   "id": "123984ca",
   "metadata": {},
   "outputs": [
    {
     "data": {
      "text/plain": [
       "Int64Index([], dtype='int64')"
      ]
     },
     "execution_count": 18,
     "metadata": {},
     "output_type": "execute_result"
    }
   ],
   "source": [
    "data[data['Category']=='1.9'].index"
   ]
  },
  {
   "cell_type": "markdown",
   "id": "1f1d1c61",
   "metadata": {},
   "source": [
    "### 6. Check if there are missing values present in the column Rating, If any? drop them and and create a new column as 'Rating_category' by converting ratings to high and low categories(>3.5 is high rest low)"
   ]
  },
  {
   "cell_type": "code",
   "execution_count": 19,
   "id": "4d9f755c",
   "metadata": {},
   "outputs": [
    {
     "name": "stdout",
     "output_type": "stream",
     "text": [
      "The missing values in rating column is : 1465\n"
     ]
    }
   ],
   "source": [
    "# Check missing values in 'Rating' column\n",
    "print(\"The missing values in rating column is :\", data['Rating'].isnull().sum())\n",
    "\n",
    "# Drop missing values in 'Rating' column\n",
    "data.dropna(subset=['Rating'], inplace=True)\n",
    "\n",
    "# Create 'Rating_category' column\n",
    "data['Rating_category'] = np.where(data['Rating'] > 3.5, 'High', 'Low')"
   ]
  },
  {
   "cell_type": "code",
   "execution_count": 20,
   "id": "d0868373",
   "metadata": {},
   "outputs": [
    {
     "data": {
      "text/plain": [
       "0        High\n",
       "1        High\n",
       "2        High\n",
       "3        High\n",
       "4        High\n",
       "         ... \n",
       "10834    High\n",
       "10836    High\n",
       "10837    High\n",
       "10839    High\n",
       "10840    High\n",
       "Name: Rating_category, Length: 8892, dtype: object"
      ]
     },
     "execution_count": 20,
     "metadata": {},
     "output_type": "execute_result"
    }
   ],
   "source": [
    "data['Rating_category']"
   ]
  },
  {
   "cell_type": "markdown",
   "id": "c9605f1c",
   "metadata": {},
   "source": [
    "### 7. Check the distribution of the newly created column 'Rating_category' and comment on the distribution."
   ]
  },
  {
   "cell_type": "code",
   "execution_count": 21,
   "id": "2046ddb2",
   "metadata": {
    "scrolled": true
   },
   "outputs": [
    {
     "name": "stdout",
     "output_type": "stream",
     "text": [
      "Count of high and low rating for category :\n",
      "High    8012\n",
      "Low      880\n",
      "Name: Rating_category, dtype: int64\n",
      "Percentage of high and low rating for category :\n",
      "High    90.103464\n",
      "Low      9.896536\n",
      "Name: Rating_category, dtype: float64\n"
     ]
    }
   ],
   "source": [
    "print(\"Count of high and low rating for category :\" )\n",
    "print(data['Rating_category'].value_counts())\n",
    "print(\"Percentage of high and low rating for category :\" )\n",
    "print(data['Rating_category'].value_counts(normalize=True)*100)"
   ]
  },
  {
   "cell_type": "code",
   "execution_count": 22,
   "id": "184c4067",
   "metadata": {},
   "outputs": [
    {
     "data": {
      "image/png": "[encoded data removed]",
      "text/plain": [
       "<Figure size 640x480 with 1 Axes>"
      ]
     },
     "metadata": {},
     "output_type": "display_data"
    }
   ],
   "source": [
    "data['Rating_category'].value_counts().plot(kind = 'bar',color=['green','red'])\n",
    "plt.title('Rating for overall app category',color='m')\n",
    "plt.show()"
   ]
  },
  {
   "cell_type": "markdown",
   "id": "d3511aae",
   "metadata": {},
   "source": [
    "### INFERNECE\n",
    "    1. The distribution of the 'Rating_category' column shows that there are 8471 ratings categorized as 'High' and 896 ratings categorized as 'Low'. The column is heavily imbalanced, with a significantly larger number of ratings falling into the 'High' category compared to the 'Low' category."
   ]
  },
  {
   "cell_type": "markdown",
   "id": "07d440e8",
   "metadata": {},
   "source": [
    "### 8. Convert the column \"Reviews'' to numeric data type and check the presence of outliers in the column and handle the outliers using a transformation approach.(Hint: Use log transformation)"
   ]
  },
  {
   "cell_type": "code",
   "execution_count": 23,
   "id": "979fa4cb",
   "metadata": {},
   "outputs": [],
   "source": [
    "# Step 1: Convert the 'Reviews' column to numeric data type\n",
    "data['Reviews'] = pd.to_numeric(data['Reviews'], errors='coerce')"
   ]
  },
  {
   "cell_type": "code",
   "execution_count": 24,
   "id": "c4aaff79",
   "metadata": {},
   "outputs": [
    {
     "data": {
      "text/plain": [
       "0           159\n",
       "1           967\n",
       "2         87510\n",
       "3        215644\n",
       "4           967\n",
       "          ...  \n",
       "10834         7\n",
       "10836        38\n",
       "10837         4\n",
       "10839       114\n",
       "10840    398307\n",
       "Name: Reviews, Length: 8892, dtype: int64"
      ]
     },
     "execution_count": 24,
     "metadata": {},
     "output_type": "execute_result"
    }
   ],
   "source": [
    "data['Reviews']"
   ]
  },
  {
   "cell_type": "code",
   "execution_count": 25,
   "id": "fa1b9518",
   "metadata": {},
   "outputs": [
    {
     "data": {
      "image/png": "[encoded data removed]",
      "text/plain": [
       "<Figure size 640x480 with 1 Axes>"
      ]
     },
     "metadata": {},
     "output_type": "display_data"
    }
   ],
   "source": [
    "#As we can observe the column reviews have high positive skewness. Lets reduce the skewness using log transformation approach.\n",
    "sns.boxplot(data['Reviews'])\n",
    "plt.show()"
   ]
  },
  {
   "cell_type": "code",
   "execution_count": 26,
   "id": "186e4edc",
   "metadata": {},
   "outputs": [],
   "source": [
    "# Step 2: Check for the presence of outliers in the 'Reviews' column\n",
    "Q1 = data['Reviews'].quantile(0.25)\n",
    "Q3 = data['Reviews'].quantile(0.75)\n",
    "IQR = Q3 - Q1"
   ]
  },
  {
   "cell_type": "code",
   "execution_count": 27,
   "id": "20167399",
   "metadata": {},
   "outputs": [
    {
     "data": {
      "text/plain": [
       "71102.75"
      ]
     },
     "execution_count": 27,
     "metadata": {},
     "output_type": "execute_result"
    }
   ],
   "source": [
    "IQR"
   ]
  },
  {
   "cell_type": "code",
   "execution_count": 28,
   "id": "2caa7cbd",
   "metadata": {},
   "outputs": [],
   "source": [
    "lower_bound = Q1 - 1.5 * IQR\n",
    "upper_bound = Q3 + 1.5 * IQR\n",
    "\n",
    "outliers = data[(data['Reviews'] < lower_bound) | (data['Reviews'] > upper_bound)]"
   ]
  },
  {
   "cell_type": "code",
   "execution_count": 29,
   "id": "da0c0212",
   "metadata": {
    "scrolled": true
   },
   "outputs": [
    {
     "data": {
      "text/html": [
       "<div>\n",
       "<style scoped>\n",
       "    .dataframe tbody tr th:only-of-type {\n",
       "        vertical-align: middle;\n",
       "    }\n",
       "\n",
       "    .dataframe tbody tr th {\n",
       "        vertical-align: top;\n",
       "    }\n",
       "\n",
       "    .dataframe thead th {\n",
       "        text-align: right;\n",
       "    }\n",
       "</style>\n",
       "<table border=\"1\" class=\"dataframe\">\n",
       "  <thead>\n",
       "    <tr style=\"text-align: right;\">\n",
       "      <th></th>\n",
       "      <th>App</th>\n",
       "      <th>Category</th>\n",
       "      <th>Rating</th>\n",
       "      <th>Reviews</th>\n",
       "      <th>Size</th>\n",
       "      <th>Installs</th>\n",
       "      <th>Type</th>\n",
       "      <th>Price</th>\n",
       "      <th>Content Rating</th>\n",
       "      <th>Genres</th>\n",
       "      <th>Last Updated</th>\n",
       "      <th>Current Ver</th>\n",
       "      <th>Android Ver</th>\n",
       "      <th>Rating_category</th>\n",
       "    </tr>\n",
       "  </thead>\n",
       "  <tbody>\n",
       "    <tr>\n",
       "      <th>3</th>\n",
       "      <td>Sketch - Draw &amp; Paint</td>\n",
       "      <td>ART_AND_DESIGN</td>\n",
       "      <td>4.5</td>\n",
       "      <td>215644</td>\n",
       "      <td>25M</td>\n",
       "      <td>50,000,000+</td>\n",
       "      <td>Free</td>\n",
       "      <td>0</td>\n",
       "      <td>Teen</td>\n",
       "      <td>Art &amp; Design</td>\n",
       "      <td>June 8, 2018</td>\n",
       "      <td>Varies with device</td>\n",
       "      <td>4.2 and up</td>\n",
       "      <td>High</td>\n",
       "    </tr>\n",
       "    <tr>\n",
       "      <th>18</th>\n",
       "      <td>FlipaClip - Cartoon animation</td>\n",
       "      <td>ART_AND_DESIGN</td>\n",
       "      <td>4.3</td>\n",
       "      <td>194216</td>\n",
       "      <td>39M</td>\n",
       "      <td>5,000,000+</td>\n",
       "      <td>Free</td>\n",
       "      <td>0</td>\n",
       "      <td>Everyone</td>\n",
       "      <td>Art &amp; Design</td>\n",
       "      <td>August 3, 2018</td>\n",
       "      <td>2.2.5</td>\n",
       "      <td>4.0.3 and up</td>\n",
       "      <td>High</td>\n",
       "    </tr>\n",
       "    <tr>\n",
       "      <th>19</th>\n",
       "      <td>ibis Paint X</td>\n",
       "      <td>ART_AND_DESIGN</td>\n",
       "      <td>4.6</td>\n",
       "      <td>224399</td>\n",
       "      <td>31M</td>\n",
       "      <td>10,000,000+</td>\n",
       "      <td>Free</td>\n",
       "      <td>0</td>\n",
       "      <td>Everyone</td>\n",
       "      <td>Art &amp; Design</td>\n",
       "      <td>July 30, 2018</td>\n",
       "      <td>5.5.4</td>\n",
       "      <td>4.1 and up</td>\n",
       "      <td>High</td>\n",
       "    </tr>\n",
       "    <tr>\n",
       "      <th>42</th>\n",
       "      <td>Textgram - write on photos</td>\n",
       "      <td>ART_AND_DESIGN</td>\n",
       "      <td>4.4</td>\n",
       "      <td>295221</td>\n",
       "      <td>Varies with device</td>\n",
       "      <td>10,000,000+</td>\n",
       "      <td>Free</td>\n",
       "      <td>0</td>\n",
       "      <td>Everyone</td>\n",
       "      <td>Art &amp; Design</td>\n",
       "      <td>July 30, 2018</td>\n",
       "      <td>Varies with device</td>\n",
       "      <td>Varies with device</td>\n",
       "      <td>High</td>\n",
       "    </tr>\n",
       "    <tr>\n",
       "      <th>72</th>\n",
       "      <td>Android Auto - Maps, Media, Messaging &amp; Voice</td>\n",
       "      <td>AUTO_AND_VEHICLES</td>\n",
       "      <td>4.2</td>\n",
       "      <td>271920</td>\n",
       "      <td>16M</td>\n",
       "      <td>10,000,000+</td>\n",
       "      <td>Free</td>\n",
       "      <td>0</td>\n",
       "      <td>Teen</td>\n",
       "      <td>Auto &amp; Vehicles</td>\n",
       "      <td>July 11, 2018</td>\n",
       "      <td>Varies with device</td>\n",
       "      <td>5.0 and up</td>\n",
       "      <td>High</td>\n",
       "    </tr>\n",
       "    <tr>\n",
       "      <th>...</th>\n",
       "      <td>...</td>\n",
       "      <td>...</td>\n",
       "      <td>...</td>\n",
       "      <td>...</td>\n",
       "      <td>...</td>\n",
       "      <td>...</td>\n",
       "      <td>...</td>\n",
       "      <td>...</td>\n",
       "      <td>...</td>\n",
       "      <td>...</td>\n",
       "      <td>...</td>\n",
       "      <td>...</td>\n",
       "      <td>...</td>\n",
       "      <td>...</td>\n",
       "    </tr>\n",
       "    <tr>\n",
       "      <th>10740</th>\n",
       "      <td>PhotoFunia</td>\n",
       "      <td>PHOTOGRAPHY</td>\n",
       "      <td>4.3</td>\n",
       "      <td>316378</td>\n",
       "      <td>4.4M</td>\n",
       "      <td>10,000,000+</td>\n",
       "      <td>Free</td>\n",
       "      <td>0</td>\n",
       "      <td>Everyone</td>\n",
       "      <td>Photography</td>\n",
       "      <td>June 3, 2017</td>\n",
       "      <td>4.0.7.0</td>\n",
       "      <td>2.3 and up</td>\n",
       "      <td>High</td>\n",
       "    </tr>\n",
       "    <tr>\n",
       "      <th>10781</th>\n",
       "      <td>Modern Strike Online</td>\n",
       "      <td>GAME</td>\n",
       "      <td>4.3</td>\n",
       "      <td>834117</td>\n",
       "      <td>44M</td>\n",
       "      <td>10,000,000+</td>\n",
       "      <td>Free</td>\n",
       "      <td>0</td>\n",
       "      <td>Teen</td>\n",
       "      <td>Action</td>\n",
       "      <td>July 30, 2018</td>\n",
       "      <td>1.25.4</td>\n",
       "      <td>4.1 and up</td>\n",
       "      <td>High</td>\n",
       "    </tr>\n",
       "    <tr>\n",
       "      <th>10784</th>\n",
       "      <td>Big Hunter</td>\n",
       "      <td>GAME</td>\n",
       "      <td>4.3</td>\n",
       "      <td>245455</td>\n",
       "      <td>84M</td>\n",
       "      <td>10,000,000+</td>\n",
       "      <td>Free</td>\n",
       "      <td>0</td>\n",
       "      <td>Everyone 10+</td>\n",
       "      <td>Action</td>\n",
       "      <td>May 31, 2018</td>\n",
       "      <td>2.8.6</td>\n",
       "      <td>4.0 and up</td>\n",
       "      <td>High</td>\n",
       "    </tr>\n",
       "    <tr>\n",
       "      <th>10809</th>\n",
       "      <td>Castle Clash: RPG War and Strategy FR</td>\n",
       "      <td>FAMILY</td>\n",
       "      <td>4.7</td>\n",
       "      <td>376223</td>\n",
       "      <td>24M</td>\n",
       "      <td>1,000,000+</td>\n",
       "      <td>Free</td>\n",
       "      <td>0</td>\n",
       "      <td>Everyone</td>\n",
       "      <td>Strategy</td>\n",
       "      <td>July 18, 2018</td>\n",
       "      <td>1.4.2</td>\n",
       "      <td>4.1 and up</td>\n",
       "      <td>High</td>\n",
       "    </tr>\n",
       "    <tr>\n",
       "      <th>10840</th>\n",
       "      <td>iHoroscope - 2018 Daily Horoscope &amp; Astrology</td>\n",
       "      <td>LIFESTYLE</td>\n",
       "      <td>4.5</td>\n",
       "      <td>398307</td>\n",
       "      <td>19M</td>\n",
       "      <td>10,000,000+</td>\n",
       "      <td>Free</td>\n",
       "      <td>0</td>\n",
       "      <td>Everyone</td>\n",
       "      <td>Lifestyle</td>\n",
       "      <td>July 25, 2018</td>\n",
       "      <td>Varies with device</td>\n",
       "      <td>Varies with device</td>\n",
       "      <td>High</td>\n",
       "    </tr>\n",
       "  </tbody>\n",
       "</table>\n",
       "<p>1555 rows × 14 columns</p>\n",
       "</div>"
      ],
      "text/plain": [
       "                                                 App           Category  \\\n",
       "3                              Sketch - Draw & Paint     ART_AND_DESIGN   \n",
       "18                     FlipaClip - Cartoon animation     ART_AND_DESIGN   \n",
       "19                                      ibis Paint X     ART_AND_DESIGN   \n",
       "42                        Textgram - write on photos     ART_AND_DESIGN   \n",
       "72     Android Auto - Maps, Media, Messaging & Voice  AUTO_AND_VEHICLES   \n",
       "...                                              ...                ...   \n",
       "10740                                     PhotoFunia        PHOTOGRAPHY   \n",
       "10781                           Modern Strike Online               GAME   \n",
       "10784                                     Big Hunter               GAME   \n",
       "10809          Castle Clash: RPG War and Strategy FR             FAMILY   \n",
       "10840  iHoroscope - 2018 Daily Horoscope & Astrology          LIFESTYLE   \n",
       "\n",
       "       Rating  Reviews                Size     Installs  Type Price  \\\n",
       "3         4.5   215644                 25M  50,000,000+  Free     0   \n",
       "18        4.3   194216                 39M   5,000,000+  Free     0   \n",
       "19        4.6   224399                 31M  10,000,000+  Free     0   \n",
       "42        4.4   295221  Varies with device  10,000,000+  Free     0   \n",
       "72        4.2   271920                 16M  10,000,000+  Free     0   \n",
       "...       ...      ...                 ...          ...   ...   ...   \n",
       "10740     4.3   316378                4.4M  10,000,000+  Free     0   \n",
       "10781     4.3   834117                 44M  10,000,000+  Free     0   \n",
       "10784     4.3   245455                 84M  10,000,000+  Free     0   \n",
       "10809     4.7   376223                 24M   1,000,000+  Free     0   \n",
       "10840     4.5   398307                 19M  10,000,000+  Free     0   \n",
       "\n",
       "      Content Rating           Genres    Last Updated         Current Ver  \\\n",
       "3               Teen     Art & Design    June 8, 2018  Varies with device   \n",
       "18          Everyone     Art & Design  August 3, 2018               2.2.5   \n",
       "19          Everyone     Art & Design   July 30, 2018               5.5.4   \n",
       "42          Everyone     Art & Design   July 30, 2018  Varies with device   \n",
       "72              Teen  Auto & Vehicles   July 11, 2018  Varies with device   \n",
       "...              ...              ...             ...                 ...   \n",
       "10740       Everyone      Photography    June 3, 2017             4.0.7.0   \n",
       "10781           Teen           Action   July 30, 2018              1.25.4   \n",
       "10784   Everyone 10+           Action    May 31, 2018               2.8.6   \n",
       "10809       Everyone         Strategy   July 18, 2018               1.4.2   \n",
       "10840       Everyone        Lifestyle   July 25, 2018  Varies with device   \n",
       "\n",
       "              Android Ver Rating_category  \n",
       "3              4.2 and up            High  \n",
       "18           4.0.3 and up            High  \n",
       "19             4.1 and up            High  \n",
       "42     Varies with device            High  \n",
       "72             5.0 and up            High  \n",
       "...                   ...             ...  \n",
       "10740          2.3 and up            High  \n",
       "10781          4.1 and up            High  \n",
       "10784          4.0 and up            High  \n",
       "10809          4.1 and up            High  \n",
       "10840  Varies with device            High  \n",
       "\n",
       "[1555 rows x 14 columns]"
      ]
     },
     "execution_count": 29,
     "metadata": {},
     "output_type": "execute_result"
    }
   ],
   "source": [
    "outliers"
   ]
  },
  {
   "cell_type": "code",
   "execution_count": 30,
   "id": "4748bdf5",
   "metadata": {},
   "outputs": [],
   "source": [
    "# Step 3: Handle outliers using log transformation\n",
    "data['Reviews'] = np.log1p(data['Reviews'])"
   ]
  },
  {
   "cell_type": "code",
   "execution_count": 31,
   "id": "baa7cb9c",
   "metadata": {
    "scrolled": true
   },
   "outputs": [
    {
     "name": "stdout",
     "output_type": "stream",
     "text": [
      "                                                     App             Category  \\\n",
      "0         Photo Editor & Candy Camera & Grid & ScrapBook       ART_AND_DESIGN   \n",
      "1                                    Coloring book moana       ART_AND_DESIGN   \n",
      "2      U Launcher Lite – FREE Live Cool Themes, Hide ...       ART_AND_DESIGN   \n",
      "3                                  Sketch - Draw & Paint       ART_AND_DESIGN   \n",
      "4                  Pixel Draw - Number Art Coloring Book       ART_AND_DESIGN   \n",
      "...                                                  ...                  ...   \n",
      "10834                                      FR Calculator               FAMILY   \n",
      "10836                                   Sya9a Maroc - FR               FAMILY   \n",
      "10837                   Fr. Mike Schmitz Audio Teachings               FAMILY   \n",
      "10839                      The SCP Foundation DB fr nn5n  BOOKS_AND_REFERENCE   \n",
      "10840      iHoroscope - 2018 Daily Horoscope & Astrology            LIFESTYLE   \n",
      "\n",
      "       Rating    Reviews                Size     Installs  Type Price  \\\n",
      "0         4.1   5.075174                 19M      10,000+  Free     0   \n",
      "1         3.9   6.875232                 14M     500,000+  Free     0   \n",
      "2         4.7  11.379520                8.7M   5,000,000+  Free     0   \n",
      "3         4.5  12.281389                 25M  50,000,000+  Free     0   \n",
      "4         4.3   6.875232                2.8M     100,000+  Free     0   \n",
      "...       ...        ...                 ...          ...   ...   ...   \n",
      "10834     4.0   2.079442                2.6M         500+  Free     0   \n",
      "10836     4.5   3.663562                 53M       5,000+  Free     0   \n",
      "10837     5.0   1.609438                3.6M         100+  Free     0   \n",
      "10839     4.5   4.744932  Varies with device       1,000+  Free     0   \n",
      "10840     4.5  12.894981                 19M  10,000,000+  Free     0   \n",
      "\n",
      "      Content Rating                     Genres      Last Updated  \\\n",
      "0           Everyone               Art & Design   January 7, 2018   \n",
      "1           Everyone  Art & Design;Pretend Play  January 15, 2018   \n",
      "2           Everyone               Art & Design    August 1, 2018   \n",
      "3               Teen               Art & Design      June 8, 2018   \n",
      "4           Everyone    Art & Design;Creativity     June 20, 2018   \n",
      "...              ...                        ...               ...   \n",
      "10834       Everyone                  Education     June 18, 2017   \n",
      "10836       Everyone                  Education     July 25, 2017   \n",
      "10837       Everyone                  Education      July 6, 2018   \n",
      "10839     Mature 17+          Books & Reference  January 19, 2015   \n",
      "10840       Everyone                  Lifestyle     July 25, 2018   \n",
      "\n",
      "              Current Ver         Android Ver Rating_category  \n",
      "0                   1.0.0        4.0.3 and up            High  \n",
      "1                   2.0.0        4.0.3 and up            High  \n",
      "2                   1.2.4        4.0.3 and up            High  \n",
      "3      Varies with device          4.2 and up            High  \n",
      "4                     1.1          4.4 and up            High  \n",
      "...                   ...                 ...             ...  \n",
      "10834               1.0.0          4.1 and up            High  \n",
      "10836                1.48          4.1 and up            High  \n",
      "10837                 1.0          4.1 and up            High  \n",
      "10839  Varies with device  Varies with device            High  \n",
      "10840  Varies with device  Varies with device            High  \n",
      "\n",
      "[8892 rows x 14 columns]\n"
     ]
    }
   ],
   "source": [
    "# Print the DataFrame after handling outliers with log transformation\n",
    "print(data)"
   ]
  },
  {
   "cell_type": "code",
   "execution_count": 32,
   "id": "99baf0a2",
   "metadata": {},
   "outputs": [
    {
     "data": {
      "image/png": "[encoded data removed]",
      "text/plain": [
       "<Figure size 640x480 with 1 Axes>"
      ]
     },
     "metadata": {},
     "output_type": "display_data"
    }
   ],
   "source": [
    "#As we can observe after log transformation the column reviews is been normally distributed and free of outliers.\n",
    "sns.boxplot(data['Reviews'])\n",
    "plt.show()"
   ]
  },
  {
   "cell_type": "markdown",
   "id": "fdf21378",
   "metadata": {},
   "source": [
    "### 9. The column 'Size' contains alphanumeric values, treat the non numeric data and convert the column into suitable data type. (hint: Replace M with 1 million and K with 1 thousand, and drop the entries where size='Varies with device')"
   ]
  },
  {
   "cell_type": "code",
   "execution_count": 33,
   "id": "bc43b88c",
   "metadata": {},
   "outputs": [
    {
     "data": {
      "text/plain": [
       "0     19M\n",
       "1     14M\n",
       "2    8.7M\n",
       "3     25M\n",
       "4    2.8M\n",
       "Name: Size, dtype: object"
      ]
     },
     "execution_count": 33,
     "metadata": {},
     "output_type": "execute_result"
    }
   ],
   "source": [
    "data['Size'].head(5)"
   ]
  },
  {
   "cell_type": "code",
   "execution_count": 34,
   "id": "01f59d0b",
   "metadata": {},
   "outputs": [],
   "source": [
    "data = data[data['Size'] != 'Varies with device']"
   ]
  },
  {
   "cell_type": "code",
   "execution_count": 35,
   "id": "14de9583",
   "metadata": {},
   "outputs": [],
   "source": [
    "def convert(entry):\n",
    "        if entry[-1] == 'k':\n",
    "            new_entry = float(entry.replace('k',''))*1000\n",
    "        else:\n",
    "            new_entry = float(entry.replace('M',''))*1000000\n",
    "        return new_entry"
   ]
  },
  {
   "cell_type": "code",
   "execution_count": 36,
   "id": "e44f0ede",
   "metadata": {},
   "outputs": [],
   "source": [
    "data['Size'] = data['Size'].apply(lambda x : convert(x))"
   ]
  },
  {
   "cell_type": "code",
   "execution_count": 37,
   "id": "f8740d60",
   "metadata": {},
   "outputs": [
    {
     "data": {
      "text/plain": [
       "0    19000000.0\n",
       "1    14000000.0\n",
       "2     8700000.0\n",
       "3    25000000.0\n",
       "4     2800000.0\n",
       "Name: Size, dtype: float64"
      ]
     },
     "execution_count": 37,
     "metadata": {},
     "output_type": "execute_result"
    }
   ],
   "source": [
    "data['Size'].head()"
   ]
  },
  {
   "cell_type": "markdown",
   "id": "7f01f1e0",
   "metadata": {},
   "source": [
    "### 10. Check the column 'Installs', treat the unwanted characters and convert the column into a suitable data type."
   ]
  },
  {
   "cell_type": "code",
   "execution_count": 38,
   "id": "26e68328",
   "metadata": {},
   "outputs": [
    {
     "data": {
      "text/plain": [
       "array(['10,000+', '500,000+', '5,000,000+', '50,000,000+', '100,000+',\n",
       "       '50,000+', '1,000,000+', '10,000,000+', '5,000+', '100,000,000+',\n",
       "       '1,000+', '500,000,000+', '100+', '500+', '10+', '1,000,000,000+',\n",
       "       '5+', '50+', '1+'], dtype=object)"
      ]
     },
     "execution_count": 38,
     "metadata": {},
     "output_type": "execute_result"
    }
   ],
   "source": [
    "data['Installs'].unique()"
   ]
  },
  {
   "cell_type": "code",
   "execution_count": 39,
   "id": "ed3dc746",
   "metadata": {},
   "outputs": [],
   "source": [
    "data['Installs'] = data['Installs'].str.replace(',','').str.replace('+','')"
   ]
  },
  {
   "cell_type": "code",
   "execution_count": 40,
   "id": "1c40be81",
   "metadata": {},
   "outputs": [],
   "source": [
    "data['Installs'] = pd.to_numeric(data['Installs'], errors = 'coerce')"
   ]
  },
  {
   "cell_type": "code",
   "execution_count": 41,
   "id": "ade0aaaa",
   "metadata": {},
   "outputs": [
    {
     "data": {
      "text/plain": [
       "0       10000\n",
       "1      500000\n",
       "2     5000000\n",
       "3    50000000\n",
       "4      100000\n",
       "Name: Installs, dtype: int64"
      ]
     },
     "execution_count": 41,
     "metadata": {},
     "output_type": "execute_result"
    }
   ],
   "source": [
    "data['Installs'].head()"
   ]
  },
  {
   "cell_type": "markdown",
   "id": "dbd66dd0",
   "metadata": {},
   "source": [
    "### 11. Check the column 'Price' , remove the unwanted characters and convert the column into a suitable data type."
   ]
  },
  {
   "cell_type": "code",
   "execution_count": 42,
   "id": "ddf144aa",
   "metadata": {},
   "outputs": [
    {
     "data": {
      "text/plain": [
       "array(['0', '$4.99', '$6.99', '$7.99', '$3.99', '$5.99', '$2.99', '$1.99',\n",
       "       '$9.99', '$0.99', '$9.00', '$5.49', '$10.00', '$24.99', '$11.99',\n",
       "       '$79.99', '$16.99', '$14.99', '$29.99', '$12.99', '$3.49',\n",
       "       '$10.99', '$7.49', '$1.50', '$19.99', '$15.99', '$33.99', '$39.99',\n",
       "       '$2.49', '$4.49', '$1.70', '$1.49', '$3.88', '$399.99', '$17.99',\n",
       "       '$400.00', '$3.02', '$1.76', '$4.84', '$4.77', '$1.61', '$1.59',\n",
       "       '$6.49', '$1.29', '$299.99', '$379.99', '$37.99', '$18.99',\n",
       "       '$389.99', '$8.49', '$1.75', '$14.00', '$2.00', '$3.08', '$2.59',\n",
       "       '$19.40', '$15.46', '$8.99', '$3.04', '$13.99', '$4.29', '$3.28',\n",
       "       '$4.60', '$1.00', '$2.90', '$1.97', '$2.56', '$1.20'], dtype=object)"
      ]
     },
     "execution_count": 42,
     "metadata": {},
     "output_type": "execute_result"
    }
   ],
   "source": [
    "data['Price'].unique()"
   ]
  },
  {
   "cell_type": "code",
   "execution_count": 43,
   "id": "ce59aea0",
   "metadata": {},
   "outputs": [],
   "source": [
    "data['Price'] = data['Price'].str.replace('$', '')"
   ]
  },
  {
   "cell_type": "code",
   "execution_count": 44,
   "id": "1248697e",
   "metadata": {},
   "outputs": [],
   "source": [
    "data['Price'] = pd.to_numeric(data['Price'], errors = 'coerce')"
   ]
  },
  {
   "cell_type": "code",
   "execution_count": 45,
   "id": "e1b23b6e",
   "metadata": {},
   "outputs": [
    {
     "data": {
      "text/plain": [
       "array([  0.  ,   4.99,   6.99,   7.99,   3.99,   5.99,   2.99,   1.99,\n",
       "         9.99,   0.99,   9.  ,   5.49,  10.  ,  24.99,  11.99,  79.99,\n",
       "        16.99,  14.99,  29.99,  12.99,   3.49,  10.99,   7.49,   1.5 ,\n",
       "        19.99,  15.99,  33.99,  39.99,   2.49,   4.49,   1.7 ,   1.49,\n",
       "         3.88, 399.99,  17.99, 400.  ,   3.02,   1.76,   4.84,   4.77,\n",
       "         1.61,   1.59,   6.49,   1.29, 299.99, 379.99,  37.99,  18.99,\n",
       "       389.99,   8.49,   1.75,  14.  ,   2.  ,   3.08,   2.59,  19.4 ,\n",
       "        15.46,   8.99,   3.04,  13.99,   4.29,   3.28,   4.6 ,   1.  ,\n",
       "         2.9 ,   1.97,   2.56,   1.2 ])"
      ]
     },
     "execution_count": 45,
     "metadata": {},
     "output_type": "execute_result"
    }
   ],
   "source": [
    "data['Price'].unique()"
   ]
  },
  {
   "cell_type": "markdown",
   "id": "c49b5019",
   "metadata": {},
   "source": [
    "### 12. Drop the columns which you think redundant for the analysis.(suggestion: drop column 'rating', since we created a new feature from it (i.e. rating_category) and the columns 'App', 'Rating' ,'Genres','Last Updated', 'Current Ver','Android Ver' columns since which are redundant for our analysis)\n"
   ]
  },
  {
   "cell_type": "code",
   "execution_count": 46,
   "id": "26801aec",
   "metadata": {},
   "outputs": [],
   "source": [
    "data = data.drop(['App','Rating','Genres','Last Updated', 'Current Ver','Android Ver' ], axis = 1)"
   ]
  },
  {
   "cell_type": "code",
   "execution_count": 47,
   "id": "57775fd9",
   "metadata": {},
   "outputs": [
    {
     "data": {
      "text/html": [
       "<div>\n",
       "<style scoped>\n",
       "    .dataframe tbody tr th:only-of-type {\n",
       "        vertical-align: middle;\n",
       "    }\n",
       "\n",
       "    .dataframe tbody tr th {\n",
       "        vertical-align: top;\n",
       "    }\n",
       "\n",
       "    .dataframe thead th {\n",
       "        text-align: right;\n",
       "    }\n",
       "</style>\n",
       "<table border=\"1\" class=\"dataframe\">\n",
       "  <thead>\n",
       "    <tr style=\"text-align: right;\">\n",
       "      <th></th>\n",
       "      <th>Category</th>\n",
       "      <th>Reviews</th>\n",
       "      <th>Size</th>\n",
       "      <th>Installs</th>\n",
       "      <th>Type</th>\n",
       "      <th>Price</th>\n",
       "      <th>Content Rating</th>\n",
       "      <th>Rating_category</th>\n",
       "    </tr>\n",
       "  </thead>\n",
       "  <tbody>\n",
       "    <tr>\n",
       "      <th>0</th>\n",
       "      <td>ART_AND_DESIGN</td>\n",
       "      <td>5.075174</td>\n",
       "      <td>19000000.0</td>\n",
       "      <td>10000</td>\n",
       "      <td>Free</td>\n",
       "      <td>0.0</td>\n",
       "      <td>Everyone</td>\n",
       "      <td>High</td>\n",
       "    </tr>\n",
       "    <tr>\n",
       "      <th>1</th>\n",
       "      <td>ART_AND_DESIGN</td>\n",
       "      <td>6.875232</td>\n",
       "      <td>14000000.0</td>\n",
       "      <td>500000</td>\n",
       "      <td>Free</td>\n",
       "      <td>0.0</td>\n",
       "      <td>Everyone</td>\n",
       "      <td>High</td>\n",
       "    </tr>\n",
       "  </tbody>\n",
       "</table>\n",
       "</div>"
      ],
      "text/plain": [
       "         Category   Reviews        Size  Installs  Type  Price Content Rating  \\\n",
       "0  ART_AND_DESIGN  5.075174  19000000.0     10000  Free    0.0       Everyone   \n",
       "1  ART_AND_DESIGN  6.875232  14000000.0    500000  Free    0.0       Everyone   \n",
       "\n",
       "  Rating_category  \n",
       "0            High  \n",
       "1            High  "
      ]
     },
     "execution_count": 47,
     "metadata": {},
     "output_type": "execute_result"
    }
   ],
   "source": [
    "data.head(2)"
   ]
  },
  {
   "cell_type": "markdown",
   "id": "e4699143",
   "metadata": {},
   "source": [
    "### 13. Encode the categorical columns."
   ]
  },
  {
   "cell_type": "code",
   "execution_count": 48,
   "id": "e42ecd9b",
   "metadata": {},
   "outputs": [],
   "source": [
    "lc= LabelEncoder()"
   ]
  },
  {
   "cell_type": "code",
   "execution_count": 49,
   "id": "dd01e08f",
   "metadata": {},
   "outputs": [],
   "source": [
    "def categorical_to_numeric(df):\n",
    "    list_cols = list(df.select_dtypes(include=['object']).columns)\n",
    "    for col in list_cols:\n",
    "        df[col] = lc.fit_transform(list(df[col]))"
   ]
  },
  {
   "cell_type": "code",
   "execution_count": 50,
   "id": "2bf2306a",
   "metadata": {},
   "outputs": [],
   "source": [
    "categorical_to_numeric(data)"
   ]
  },
  {
   "cell_type": "code",
   "execution_count": 51,
   "id": "497fd580",
   "metadata": {},
   "outputs": [
    {
     "data": {
      "text/plain": [
       "Category             int64\n",
       "Reviews            float64\n",
       "Size               float64\n",
       "Installs             int64\n",
       "Type                 int64\n",
       "Price              float64\n",
       "Content Rating       int64\n",
       "Rating_category      int64\n",
       "dtype: object"
      ]
     },
     "execution_count": 51,
     "metadata": {},
     "output_type": "execute_result"
    }
   ],
   "source": [
    "data.dtypes"
   ]
  },
  {
   "cell_type": "code",
   "execution_count": 52,
   "id": "601e55e7",
   "metadata": {},
   "outputs": [
    {
     "data": {
      "text/html": [
       "<div>\n",
       "<style scoped>\n",
       "    .dataframe tbody tr th:only-of-type {\n",
       "        vertical-align: middle;\n",
       "    }\n",
       "\n",
       "    .dataframe tbody tr th {\n",
       "        vertical-align: top;\n",
       "    }\n",
       "\n",
       "    .dataframe thead th {\n",
       "        text-align: right;\n",
       "    }\n",
       "</style>\n",
       "<table border=\"1\" class=\"dataframe\">\n",
       "  <thead>\n",
       "    <tr style=\"text-align: right;\">\n",
       "      <th></th>\n",
       "      <th>Category</th>\n",
       "      <th>Reviews</th>\n",
       "      <th>Size</th>\n",
       "      <th>Installs</th>\n",
       "      <th>Type</th>\n",
       "      <th>Price</th>\n",
       "      <th>Content Rating</th>\n",
       "      <th>Rating_category</th>\n",
       "    </tr>\n",
       "  </thead>\n",
       "  <tbody>\n",
       "    <tr>\n",
       "      <th>4555</th>\n",
       "      <td>26</td>\n",
       "      <td>3.178054</td>\n",
       "      <td>8900000.0</td>\n",
       "      <td>5000</td>\n",
       "      <td>0</td>\n",
       "      <td>0.00</td>\n",
       "      <td>1</td>\n",
       "      <td>0</td>\n",
       "    </tr>\n",
       "    <tr>\n",
       "      <th>3323</th>\n",
       "      <td>29</td>\n",
       "      <td>12.518267</td>\n",
       "      <td>22000000.0</td>\n",
       "      <td>5000000</td>\n",
       "      <td>0</td>\n",
       "      <td>0.00</td>\n",
       "      <td>1</td>\n",
       "      <td>0</td>\n",
       "    </tr>\n",
       "    <tr>\n",
       "      <th>1957</th>\n",
       "      <td>14</td>\n",
       "      <td>13.531879</td>\n",
       "      <td>57000000.0</td>\n",
       "      <td>100000000</td>\n",
       "      <td>0</td>\n",
       "      <td>0.00</td>\n",
       "      <td>4</td>\n",
       "      <td>0</td>\n",
       "    </tr>\n",
       "    <tr>\n",
       "      <th>3741</th>\n",
       "      <td>21</td>\n",
       "      <td>6.601230</td>\n",
       "      <td>6300000.0</td>\n",
       "      <td>500000</td>\n",
       "      <td>0</td>\n",
       "      <td>0.00</td>\n",
       "      <td>1</td>\n",
       "      <td>1</td>\n",
       "    </tr>\n",
       "    <tr>\n",
       "      <th>7484</th>\n",
       "      <td>11</td>\n",
       "      <td>7.681560</td>\n",
       "      <td>3700000.0</td>\n",
       "      <td>50000</td>\n",
       "      <td>0</td>\n",
       "      <td>0.00</td>\n",
       "      <td>1</td>\n",
       "      <td>0</td>\n",
       "    </tr>\n",
       "    <tr>\n",
       "      <th>5559</th>\n",
       "      <td>14</td>\n",
       "      <td>6.152733</td>\n",
       "      <td>80000000.0</td>\n",
       "      <td>10000</td>\n",
       "      <td>0</td>\n",
       "      <td>0.00</td>\n",
       "      <td>1</td>\n",
       "      <td>0</td>\n",
       "    </tr>\n",
       "    <tr>\n",
       "      <th>9084</th>\n",
       "      <td>23</td>\n",
       "      <td>5.472271</td>\n",
       "      <td>6400000.0</td>\n",
       "      <td>10000</td>\n",
       "      <td>0</td>\n",
       "      <td>0.00</td>\n",
       "      <td>1</td>\n",
       "      <td>0</td>\n",
       "    </tr>\n",
       "    <tr>\n",
       "      <th>10134</th>\n",
       "      <td>25</td>\n",
       "      <td>6.440947</td>\n",
       "      <td>1200000.0</td>\n",
       "      <td>100000</td>\n",
       "      <td>0</td>\n",
       "      <td>0.00</td>\n",
       "      <td>1</td>\n",
       "      <td>1</td>\n",
       "    </tr>\n",
       "    <tr>\n",
       "      <th>4297</th>\n",
       "      <td>11</td>\n",
       "      <td>8.767018</td>\n",
       "      <td>59000000.0</td>\n",
       "      <td>100000</td>\n",
       "      <td>0</td>\n",
       "      <td>0.00</td>\n",
       "      <td>1</td>\n",
       "      <td>0</td>\n",
       "    </tr>\n",
       "    <tr>\n",
       "      <th>5475</th>\n",
       "      <td>11</td>\n",
       "      <td>2.079442</td>\n",
       "      <td>1200000.0</td>\n",
       "      <td>100</td>\n",
       "      <td>1</td>\n",
       "      <td>9.99</td>\n",
       "      <td>1</td>\n",
       "      <td>0</td>\n",
       "    </tr>\n",
       "  </tbody>\n",
       "</table>\n",
       "</div>"
      ],
      "text/plain": [
       "       Category    Reviews        Size   Installs  Type  Price  \\\n",
       "4555         26   3.178054   8900000.0       5000     0   0.00   \n",
       "3323         29  12.518267  22000000.0    5000000     0   0.00   \n",
       "1957         14  13.531879  57000000.0  100000000     0   0.00   \n",
       "3741         21   6.601230   6300000.0     500000     0   0.00   \n",
       "7484         11   7.681560   3700000.0      50000     0   0.00   \n",
       "5559         14   6.152733  80000000.0      10000     0   0.00   \n",
       "9084         23   5.472271   6400000.0      10000     0   0.00   \n",
       "10134        25   6.440947   1200000.0     100000     0   0.00   \n",
       "4297         11   8.767018  59000000.0     100000     0   0.00   \n",
       "5475         11   2.079442   1200000.0        100     1   9.99   \n",
       "\n",
       "       Content Rating  Rating_category  \n",
       "4555                1                0  \n",
       "3323                1                0  \n",
       "1957                4                0  \n",
       "3741                1                1  \n",
       "7484                1                0  \n",
       "5559                1                0  \n",
       "9084                1                0  \n",
       "10134               1                1  \n",
       "4297                1                0  \n",
       "5475                1                0  "
      ]
     },
     "execution_count": 52,
     "metadata": {},
     "output_type": "execute_result"
    }
   ],
   "source": [
    "data.sample(10)"
   ]
  },
  {
   "cell_type": "markdown",
   "id": "22a24509",
   "metadata": {},
   "source": [
    "### 14. Segregate the target and independent features (Hint: Use Rating_category as the target)"
   ]
  },
  {
   "cell_type": "code",
   "execution_count": 53,
   "id": "a08ad139",
   "metadata": {},
   "outputs": [],
   "source": [
    "y = data[['Rating_category']]\n",
    "X = data.drop('Rating_category',axis=1)"
   ]
  },
  {
   "cell_type": "code",
   "execution_count": 54,
   "id": "2f79e546",
   "metadata": {},
   "outputs": [
    {
     "data": {
      "text/plain": [
       "Index(['Rating_category'], dtype='object')"
      ]
     },
     "execution_count": 54,
     "metadata": {},
     "output_type": "execute_result"
    }
   ],
   "source": [
    "y.columns"
   ]
  },
  {
   "cell_type": "code",
   "execution_count": 55,
   "id": "10d0dcbc",
   "metadata": {},
   "outputs": [
    {
     "data": {
      "text/plain": [
       "Index(['Category', 'Reviews', 'Size', 'Installs', 'Type', 'Price',\n",
       "       'Content Rating'],\n",
       "      dtype='object')"
      ]
     },
     "execution_count": 55,
     "metadata": {},
     "output_type": "execute_result"
    }
   ],
   "source": [
    "X.columns"
   ]
  },
  {
   "cell_type": "markdown",
   "id": "5f2d37e5",
   "metadata": {},
   "source": [
    "### 15. Split the dataset into train and test."
   ]
  },
  {
   "cell_type": "code",
   "execution_count": 56,
   "id": "6433b157",
   "metadata": {},
   "outputs": [],
   "source": [
    "X_train,X_test,y_train,y_test = train_test_split(X,y,test_size=0.25,random_state=555)"
   ]
  },
  {
   "cell_type": "code",
   "execution_count": 57,
   "id": "ed58fe0d",
   "metadata": {},
   "outputs": [
    {
     "data": {
      "text/plain": [
       "(5568, 7)"
      ]
     },
     "execution_count": 57,
     "metadata": {},
     "output_type": "execute_result"
    }
   ],
   "source": [
    "X_train.shape"
   ]
  },
  {
   "cell_type": "code",
   "execution_count": 58,
   "id": "9c66e808",
   "metadata": {},
   "outputs": [
    {
     "data": {
      "text/plain": [
       "(1856, 7)"
      ]
     },
     "execution_count": 58,
     "metadata": {},
     "output_type": "execute_result"
    }
   ],
   "source": [
    "X_test.shape"
   ]
  },
  {
   "cell_type": "code",
   "execution_count": 59,
   "id": "fa8112e1",
   "metadata": {},
   "outputs": [
    {
     "data": {
      "text/plain": [
       "(5568, 1)"
      ]
     },
     "execution_count": 59,
     "metadata": {},
     "output_type": "execute_result"
    }
   ],
   "source": [
    "y_train.shape"
   ]
  },
  {
   "cell_type": "code",
   "execution_count": 60,
   "id": "33fe7418",
   "metadata": {},
   "outputs": [
    {
     "data": {
      "text/plain": [
       "(1856, 1)"
      ]
     },
     "execution_count": 60,
     "metadata": {},
     "output_type": "execute_result"
    }
   ],
   "source": [
    "y_test.shape"
   ]
  },
  {
   "cell_type": "markdown",
   "id": "6f183916",
   "metadata": {},
   "source": [
    "### 16. Standardize the data, so that the values are within a particular range."
   ]
  },
  {
   "cell_type": "code",
   "execution_count": 61,
   "id": "08a2f117",
   "metadata": {},
   "outputs": [],
   "source": [
    "mm = MinMaxScaler()\n",
    "\n",
    "X_train.iloc[:,:] = mm.fit_transform(X_train.iloc[:,:])\n",
    "X_test.iloc[:,:] = mm.transform(X_test.iloc[:,:])"
   ]
  },
  {
   "cell_type": "code",
   "execution_count": 62,
   "id": "6124693c",
   "metadata": {},
   "outputs": [
    {
     "data": {
      "text/html": [
       "<div>\n",
       "<style scoped>\n",
       "    .dataframe tbody tr th:only-of-type {\n",
       "        vertical-align: middle;\n",
       "    }\n",
       "\n",
       "    .dataframe tbody tr th {\n",
       "        vertical-align: top;\n",
       "    }\n",
       "\n",
       "    .dataframe thead th {\n",
       "        text-align: right;\n",
       "    }\n",
       "</style>\n",
       "<table border=\"1\" class=\"dataframe\">\n",
       "  <thead>\n",
       "    <tr style=\"text-align: right;\">\n",
       "      <th></th>\n",
       "      <th>Category</th>\n",
       "      <th>Reviews</th>\n",
       "      <th>Size</th>\n",
       "      <th>Installs</th>\n",
       "      <th>Type</th>\n",
       "      <th>Price</th>\n",
       "      <th>Content Rating</th>\n",
       "    </tr>\n",
       "  </thead>\n",
       "  <tbody>\n",
       "    <tr>\n",
       "      <th>7924</th>\n",
       "      <td>0.37500</td>\n",
       "      <td>0.453198</td>\n",
       "      <td>0.239916</td>\n",
       "      <td>4.999900e-05</td>\n",
       "      <td>0.0</td>\n",
       "      <td>0.0</td>\n",
       "      <td>0.2</td>\n",
       "    </tr>\n",
       "    <tr>\n",
       "      <th>10771</th>\n",
       "      <td>0.78125</td>\n",
       "      <td>0.129808</td>\n",
       "      <td>0.023893</td>\n",
       "      <td>9.990000e-07</td>\n",
       "      <td>0.0</td>\n",
       "      <td>0.0</td>\n",
       "      <td>0.2</td>\n",
       "    </tr>\n",
       "  </tbody>\n",
       "</table>\n",
       "</div>"
      ],
      "text/plain": [
       "       Category   Reviews      Size      Installs  Type  Price  Content Rating\n",
       "7924    0.37500  0.453198  0.239916  4.999900e-05   0.0    0.0             0.2\n",
       "10771   0.78125  0.129808  0.023893  9.990000e-07   0.0    0.0             0.2"
      ]
     },
     "execution_count": 62,
     "metadata": {},
     "output_type": "execute_result"
    }
   ],
   "source": [
    "X_train.head(2)"
   ]
  },
  {
   "cell_type": "code",
   "execution_count": 63,
   "id": "54dd36ee",
   "metadata": {},
   "outputs": [
    {
     "data": {
      "text/html": [
       "<div>\n",
       "<style scoped>\n",
       "    .dataframe tbody tr th:only-of-type {\n",
       "        vertical-align: middle;\n",
       "    }\n",
       "\n",
       "    .dataframe tbody tr th {\n",
       "        vertical-align: top;\n",
       "    }\n",
       "\n",
       "    .dataframe thead th {\n",
       "        text-align: right;\n",
       "    }\n",
       "</style>\n",
       "<table border=\"1\" class=\"dataframe\">\n",
       "  <thead>\n",
       "    <tr style=\"text-align: right;\">\n",
       "      <th></th>\n",
       "      <th>Category</th>\n",
       "      <th>Reviews</th>\n",
       "      <th>Size</th>\n",
       "      <th>Installs</th>\n",
       "      <th>Type</th>\n",
       "      <th>Price</th>\n",
       "      <th>Content Rating</th>\n",
       "    </tr>\n",
       "  </thead>\n",
       "  <tbody>\n",
       "    <tr>\n",
       "      <th>6748</th>\n",
       "      <td>0.34375</td>\n",
       "      <td>0.404944</td>\n",
       "      <td>0.719969</td>\n",
       "      <td>0.000050</td>\n",
       "      <td>0.0</td>\n",
       "      <td>0.0</td>\n",
       "      <td>0.2</td>\n",
       "    </tr>\n",
       "    <tr>\n",
       "      <th>10219</th>\n",
       "      <td>0.12500</td>\n",
       "      <td>0.155911</td>\n",
       "      <td>0.179910</td>\n",
       "      <td>0.000005</td>\n",
       "      <td>0.0</td>\n",
       "      <td>0.0</td>\n",
       "      <td>0.2</td>\n",
       "    </tr>\n",
       "  </tbody>\n",
       "</table>\n",
       "</div>"
      ],
      "text/plain": [
       "       Category   Reviews      Size  Installs  Type  Price  Content Rating\n",
       "6748    0.34375  0.404944  0.719969  0.000050   0.0    0.0             0.2\n",
       "10219   0.12500  0.155911  0.179910  0.000005   0.0    0.0             0.2"
      ]
     },
     "execution_count": 63,
     "metadata": {},
     "output_type": "execute_result"
    }
   ],
   "source": [
    "X_test.head(2)"
   ]
  }
 ],
 "metadata": {
  "kernelspec": {
   "display_name": "Python 3 (ipykernel)",
   "language": "python",
   "name": "python3"
  },
  "language_info": {
   "codemirror_mode": {
    "name": "ipython",
    "version": 3
   },
   "file_extension": ".py",
   "mimetype": "text/x-python",
   "name": "python",
   "nbconvert_exporter": "python",
   "pygments_lexer": "ipython3",
   "version": "3.9.13"
  }
 },
 "nbformat": 4,
 "nbformat_minor": 5
}
